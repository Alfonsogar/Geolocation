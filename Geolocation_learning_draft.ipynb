{
 "cells": [
  {
   "cell_type": "code",
   "execution_count": 8,
   "metadata": {},
   "outputs": [],
   "source": [
    "import geopandas\n",
    "import pandas as pd\n",
    "import matplotlib.pyplot as plt"
   ]
  },
  {
   "cell_type": "code",
   "execution_count": 9,
   "metadata": {},
   "outputs": [],
   "source": [
    "lista_regiones = ['tarapaca', 'antofagasta', 'atacama', 'coquimbo', 'valparaiso',\n",
    "                  'Libertador_Bernardo_OHiggins', 'maule', 'biobio', 'araucania',\n",
    "                  'los_lagos', 'Aysén_del_General_Ibáñez_del_Campo', 'Magallanes_y_La_Antártica_Chilena',\n",
    "                 'metropolitana', 'los_Rios', 'arica_y_Parinacota']"
   ]
  },
  {
   "cell_type": "code",
   "execution_count": 10,
   "metadata": {},
   "outputs": [],
   "source": [
    "# Correr esta! Metropolitano no tengo el MANZANA_IND_C17\n",
    "lista_regiones = ['tarapaca', 'antofagasta', 'atacama', 'coquimbo', 'valparaiso',\n",
    "                  'Libertador_Bernardo_OHiggins', 'maule', 'biobio', 'araucania',\n",
    "                  'los_lagos', 'Aysén_del_General_Ibáñez_del_Campo', 'Magallanes_y_La_Antártica_Chilena',\n",
    "                 'los_Rios', 'arica_y_Parinacota']"
   ]
  },
  {
   "cell_type": "code",
   "execution_count": 11,
   "metadata": {},
   "outputs": [
    {
     "data": {
      "text/plain": [
       "14"
      ]
     },
     "execution_count": 11,
     "metadata": {},
     "output_type": "execute_result"
    }
   ],
   "source": [
    "len(lista_regiones)"
   ]
  },
  {
   "cell_type": "code",
   "execution_count": 12,
   "metadata": {},
   "outputs": [],
   "source": [
    "ruta = \"./\"\n",
    "columns_to_keep = ['MANZENT_I', 'TOTAL_PERS', 'geometry']"
   ]
  },
  {
   "cell_type": "code",
   "execution_count": 13,
   "metadata": {},
   "outputs": [],
   "source": [
    "list_dataframes=[]\n",
    "\n",
    "for region in lista_regiones:\n",
    "    aux=[]\n",
    "    #Load data\n",
    "    path_entidad = ruta+region+\"/ENTIDAD_C17.shp\"\n",
    "    path_manzana = ruta+region+\"/MANZANA_IND_C17.shp\"\n",
    "    \n",
    "    entidad_raw = geopandas.read_file(path_entidad)\n",
    "    manzana_raw = geopandas.read_file(path_manzana)\n",
    "    \n",
    "    #Keeping columns\n",
    "    entidad = entidad_raw[columns_to_keep]\n",
    "    manzana = manzana_raw[columns_to_keep]\n",
    "    \n",
    "    #saving into a list\n",
    "    aux.append(entidad)\n",
    "    aux.append(manzana)\n",
    "    \n",
    "    #Adding to main list\n",
    "    list_dataframes.append(aux)\n",
    "    \n",
    "    \n",
    "# list_dataframes[x][0] = entidad dataframe\n",
    "# list_dataframes[x][1] = manzana dataframe"
   ]
  },
  {
   "cell_type": "code",
   "execution_count": null,
   "metadata": {},
   "outputs": [],
   "source": []
  },
  {
   "cell_type": "code",
   "execution_count": null,
   "metadata": {},
   "outputs": [],
   "source": []
  },
  {
   "cell_type": "code",
   "execution_count": 59,
   "metadata": {},
   "outputs": [],
   "source": [
    "import pickle"
   ]
  },
  {
   "cell_type": "code",
   "execution_count": null,
   "metadata": {},
   "outputs": [],
   "source": [
    "with open('geodata.txt', 'wb') as fp:\n",
    "    pickle.dump(list_dataframes, fp)"
   ]
  },
  {
   "cell_type": "code",
   "execution_count": 53,
   "metadata": {},
   "outputs": [
    {
     "data": {
      "text/plain": [
       "14"
      ]
     },
     "execution_count": 53,
     "metadata": {},
     "output_type": "execute_result"
    }
   ],
   "source": [
    "len(list_dataframes)"
   ]
  },
  {
   "cell_type": "code",
   "execution_count": 47,
   "metadata": {},
   "outputs": [
    {
     "data": {
      "text/html": [
       "<div>\n",
       "<style scoped>\n",
       "    .dataframe tbody tr th:only-of-type {\n",
       "        vertical-align: middle;\n",
       "    }\n",
       "\n",
       "    .dataframe tbody tr th {\n",
       "        vertical-align: top;\n",
       "    }\n",
       "\n",
       "    .dataframe thead th {\n",
       "        text-align: right;\n",
       "    }\n",
       "</style>\n",
       "<table border=\"1\" class=\"dataframe\">\n",
       "  <thead>\n",
       "    <tr style=\"text-align: right;\">\n",
       "      <th></th>\n",
       "      <th>MANZENT_I</th>\n",
       "      <th>TOTAL_PERS</th>\n",
       "      <th>geometry</th>\n",
       "    </tr>\n",
       "  </thead>\n",
       "  <tbody>\n",
       "    <tr>\n",
       "      <th>0</th>\n",
       "      <td>1101021005003</td>\n",
       "      <td>10</td>\n",
       "      <td>POLYGON ((-70.129871564621 -20.20814336022784,...</td>\n",
       "    </tr>\n",
       "    <tr>\n",
       "      <th>1</th>\n",
       "      <td>1101021005021</td>\n",
       "      <td>915</td>\n",
       "      <td>POLYGON ((-70.1463523308953 -20.20653207009889...</td>\n",
       "    </tr>\n",
       "    <tr>\n",
       "      <th>2</th>\n",
       "      <td>1101021005016</td>\n",
       "      <td>23</td>\n",
       "      <td>POLYGON ((-70.14544017912095 -20.2072184515702...</td>\n",
       "    </tr>\n",
       "    <tr>\n",
       "      <th>3</th>\n",
       "      <td>1101021005013</td>\n",
       "      <td>49</td>\n",
       "      <td>POLYGON ((-70.14391542175929 -20.2076609872647...</td>\n",
       "    </tr>\n",
       "    <tr>\n",
       "      <th>4</th>\n",
       "      <td>1101021005015</td>\n",
       "      <td>53</td>\n",
       "      <td>POLYGON ((-70.14544379799287 -20.2083801607158...</td>\n",
       "    </tr>\n",
       "    <tr>\n",
       "      <th>5</th>\n",
       "      <td>1101021005022</td>\n",
       "      <td>175</td>\n",
       "      <td>POLYGON ((-70.14878253468618 -20.2084074335561...</td>\n",
       "    </tr>\n",
       "    <tr>\n",
       "      <th>6</th>\n",
       "      <td>1101021005025</td>\n",
       "      <td>182</td>\n",
       "      <td>POLYGON ((-70.14572659790412 -20.2093319698944...</td>\n",
       "    </tr>\n",
       "    <tr>\n",
       "      <th>7</th>\n",
       "      <td>1101021005020</td>\n",
       "      <td>53</td>\n",
       "      <td>POLYGON ((-70.14659923706512 -20.2077315840453...</td>\n",
       "    </tr>\n",
       "    <tr>\n",
       "      <th>8</th>\n",
       "      <td>1101021005019</td>\n",
       "      <td>19</td>\n",
       "      <td>POLYGON ((-70.14640678124789 -20.2077466638774...</td>\n",
       "    </tr>\n",
       "    <tr>\n",
       "      <th>9</th>\n",
       "      <td>1101021001005</td>\n",
       "      <td>442</td>\n",
       "      <td>POLYGON ((-70.14993747463473 -20.2091133653894...</td>\n",
       "    </tr>\n",
       "    <tr>\n",
       "      <th>10</th>\n",
       "      <td>1101021005018</td>\n",
       "      <td>114</td>\n",
       "      <td>POLYGON ((-70.14565231839975 -20.2086245559784...</td>\n",
       "    </tr>\n",
       "    <tr>\n",
       "      <th>11</th>\n",
       "      <td>1101021005026</td>\n",
       "      <td>25</td>\n",
       "      <td>POLYGON ((-70.14451368315991 -20.2083787235992...</td>\n",
       "    </tr>\n",
       "    <tr>\n",
       "      <th>12</th>\n",
       "      <td>1101021003005</td>\n",
       "      <td>337</td>\n",
       "      <td>POLYGON ((-70.12932392066239 -20.2094313162022...</td>\n",
       "    </tr>\n",
       "    <tr>\n",
       "      <th>13</th>\n",
       "      <td>1101021005027</td>\n",
       "      <td>256</td>\n",
       "      <td>POLYGON ((-70.14192139995259 -20.2092985609797...</td>\n",
       "    </tr>\n",
       "    <tr>\n",
       "      <th>14</th>\n",
       "      <td>1101021005004</td>\n",
       "      <td>67</td>\n",
       "      <td>POLYGON ((-70.13786974009639 -20.2089350756931...</td>\n",
       "    </tr>\n",
       "    <tr>\n",
       "      <th>15</th>\n",
       "      <td>1101021005009</td>\n",
       "      <td>110</td>\n",
       "      <td>POLYGON ((-70.14223821132435 -20.2085038822482...</td>\n",
       "    </tr>\n",
       "    <tr>\n",
       "      <th>16</th>\n",
       "      <td>1101021003004</td>\n",
       "      <td>101</td>\n",
       "      <td>POLYGON ((-70.12973141337397 -20.2088285815737...</td>\n",
       "    </tr>\n",
       "    <tr>\n",
       "      <th>17</th>\n",
       "      <td>1101021005035</td>\n",
       "      <td>0</td>\n",
       "      <td>POLYGON ((-70.1439410488403 -20.20953090442765...</td>\n",
       "    </tr>\n",
       "    <tr>\n",
       "      <th>18</th>\n",
       "      <td>1101021005028</td>\n",
       "      <td>134</td>\n",
       "      <td>POLYGON ((-70.14040027675134 -20.2088777376174...</td>\n",
       "    </tr>\n",
       "    <tr>\n",
       "      <th>19</th>\n",
       "      <td>1101021005023</td>\n",
       "      <td>215</td>\n",
       "      <td>POLYGON ((-70.14712526222104 -20.2108282691093...</td>\n",
       "    </tr>\n",
       "    <tr>\n",
       "      <th>20</th>\n",
       "      <td>1101021005033</td>\n",
       "      <td>701</td>\n",
       "      <td>POLYGON ((-70.1414061001114 -20.20941710691392...</td>\n",
       "    </tr>\n",
       "    <tr>\n",
       "      <th>21</th>\n",
       "      <td>1101021003002</td>\n",
       "      <td>80</td>\n",
       "      <td>POLYGON ((-70.13142190409758 -20.2097372080057...</td>\n",
       "    </tr>\n",
       "    <tr>\n",
       "      <th>22</th>\n",
       "      <td>1101021005037</td>\n",
       "      <td>83</td>\n",
       "      <td>POLYGON ((-70.14453263817069 -20.2094398615603...</td>\n",
       "    </tr>\n",
       "    <tr>\n",
       "      <th>23</th>\n",
       "      <td>1101021003003</td>\n",
       "      <td>120</td>\n",
       "      <td>POLYGON ((-70.13075497766005 -20.2096689503617...</td>\n",
       "    </tr>\n",
       "    <tr>\n",
       "      <th>24</th>\n",
       "      <td>1101021001008</td>\n",
       "      <td>138</td>\n",
       "      <td>POLYGON ((-70.1510671022649 -20.21087873906254...</td>\n",
       "    </tr>\n",
       "    <tr>\n",
       "      <th>25</th>\n",
       "      <td>1101021001006</td>\n",
       "      <td>147</td>\n",
       "      <td>POLYGON ((-70.14951920714566 -20.2098661213244...</td>\n",
       "    </tr>\n",
       "    <tr>\n",
       "      <th>26</th>\n",
       "      <td>1101021005031</td>\n",
       "      <td>89</td>\n",
       "      <td>POLYGON ((-70.13989028021223 -20.2096721618407...</td>\n",
       "    </tr>\n",
       "    <tr>\n",
       "      <th>27</th>\n",
       "      <td>1101021003009</td>\n",
       "      <td>28</td>\n",
       "      <td>POLYGON ((-70.12978709489846 -20.2096876463677...</td>\n",
       "    </tr>\n",
       "    <tr>\n",
       "      <th>28</th>\n",
       "      <td>1101021004001</td>\n",
       "      <td>99</td>\n",
       "      <td>POLYGON ((-70.1358459840049 -20.20951991471225...</td>\n",
       "    </tr>\n",
       "    <tr>\n",
       "      <th>29</th>\n",
       "      <td>1101021005029</td>\n",
       "      <td>83</td>\n",
       "      <td>POLYGON ((-70.13762062609101 -20.2103732724085...</td>\n",
       "    </tr>\n",
       "    <tr>\n",
       "      <th>...</th>\n",
       "      <td>...</td>\n",
       "      <td>...</td>\n",
       "      <td>...</td>\n",
       "    </tr>\n",
       "    <tr>\n",
       "      <th>2453</th>\n",
       "      <td>1405011001014</td>\n",
       "      <td>94</td>\n",
       "      <td>POLYGON ((-69.33482828669605 -20.4924736856120...</td>\n",
       "    </tr>\n",
       "    <tr>\n",
       "      <th>2454</th>\n",
       "      <td>1405011001074</td>\n",
       "      <td>17</td>\n",
       "      <td>POLYGON ((-69.33234514880951 -20.4919845407538...</td>\n",
       "    </tr>\n",
       "    <tr>\n",
       "      <th>2455</th>\n",
       "      <td>1405011001073</td>\n",
       "      <td>42</td>\n",
       "      <td>POLYGON ((-69.33263411087546 -20.4925391994244...</td>\n",
       "    </tr>\n",
       "    <tr>\n",
       "      <th>2456</th>\n",
       "      <td>1405011001102</td>\n",
       "      <td>20</td>\n",
       "      <td>POLYGON ((-69.32593826703737 -20.4943196466343...</td>\n",
       "    </tr>\n",
       "    <tr>\n",
       "      <th>2457</th>\n",
       "      <td>1405011001013</td>\n",
       "      <td>132</td>\n",
       "      <td>POLYGON ((-69.33451942982776 -20.4928574865837...</td>\n",
       "    </tr>\n",
       "    <tr>\n",
       "      <th>2458</th>\n",
       "      <td>1405011001008</td>\n",
       "      <td>135</td>\n",
       "      <td>POLYGON ((-69.33430043231908 -20.4933788055873...</td>\n",
       "    </tr>\n",
       "    <tr>\n",
       "      <th>2459</th>\n",
       "      <td>1405011001012</td>\n",
       "      <td>119</td>\n",
       "      <td>POLYGON ((-69.33426397110532 -20.4932813883253...</td>\n",
       "    </tr>\n",
       "    <tr>\n",
       "      <th>2460</th>\n",
       "      <td>1405011001009</td>\n",
       "      <td>98</td>\n",
       "      <td>POLYGON ((-69.33349055864232 -20.4942592967291...</td>\n",
       "    </tr>\n",
       "    <tr>\n",
       "      <th>2461</th>\n",
       "      <td>1405011001004</td>\n",
       "      <td>21</td>\n",
       "      <td>POLYGON ((-69.33636061095342 -20.4948714166824...</td>\n",
       "    </tr>\n",
       "    <tr>\n",
       "      <th>2462</th>\n",
       "      <td>1405011001007</td>\n",
       "      <td>29</td>\n",
       "      <td>POLYGON ((-69.33423485465477 -20.4940591463125...</td>\n",
       "    </tr>\n",
       "    <tr>\n",
       "      <th>2463</th>\n",
       "      <td>1405011001108</td>\n",
       "      <td>22</td>\n",
       "      <td>POLYGON ((-69.34374424370185 -20.5066378720401...</td>\n",
       "    </tr>\n",
       "    <tr>\n",
       "      <th>2464</th>\n",
       "      <td>1405011001107</td>\n",
       "      <td>19</td>\n",
       "      <td>POLYGON ((-69.35129121042098 -20.5081102052217...</td>\n",
       "    </tr>\n",
       "    <tr>\n",
       "      <th>2465</th>\n",
       "      <td>1405011001113</td>\n",
       "      <td>12</td>\n",
       "      <td>POLYGON ((-69.31771656506737 -20.4907215598520...</td>\n",
       "    </tr>\n",
       "    <tr>\n",
       "      <th>2466</th>\n",
       "      <td>1405011001105</td>\n",
       "      <td>59</td>\n",
       "      <td>POLYGON ((-69.33269857517905 -20.4986734247387...</td>\n",
       "    </tr>\n",
       "    <tr>\n",
       "      <th>2467</th>\n",
       "      <td>1405011001118</td>\n",
       "      <td>0</td>\n",
       "      <td>POLYGON ((-69.31763826289546 -20.4886843606946...</td>\n",
       "    </tr>\n",
       "    <tr>\n",
       "      <th>2468</th>\n",
       "      <td>1405011001016</td>\n",
       "      <td>11</td>\n",
       "      <td>POLYGON ((-69.33788695202117 -20.4881220541894...</td>\n",
       "    </tr>\n",
       "    <tr>\n",
       "      <th>2469</th>\n",
       "      <td>1405011001111</td>\n",
       "      <td>31</td>\n",
       "      <td>POLYGON ((-69.32521365808384 -20.4985415148789...</td>\n",
       "    </tr>\n",
       "    <tr>\n",
       "      <th>2470</th>\n",
       "      <td>1405011001112</td>\n",
       "      <td>50</td>\n",
       "      <td>POLYGON ((-69.32281024329802 -20.4930127212600...</td>\n",
       "    </tr>\n",
       "    <tr>\n",
       "      <th>2471</th>\n",
       "      <td>1405011001106</td>\n",
       "      <td>35</td>\n",
       "      <td>POLYGON ((-69.34065312903863 -20.5033408306147...</td>\n",
       "    </tr>\n",
       "    <tr>\n",
       "      <th>2472</th>\n",
       "      <td>1405011001048</td>\n",
       "      <td>19</td>\n",
       "      <td>POLYGON ((-69.32590741039866 -20.4851228718230...</td>\n",
       "    </tr>\n",
       "    <tr>\n",
       "      <th>2473</th>\n",
       "      <td>1405011001109</td>\n",
       "      <td>18</td>\n",
       "      <td>POLYGON ((-69.33672932040179 -20.5065475540263...</td>\n",
       "    </tr>\n",
       "    <tr>\n",
       "      <th>2474</th>\n",
       "      <td>1405011001511</td>\n",
       "      <td>31</td>\n",
       "      <td>POLYGON ((-69.33126517814543 -20.5015452963782...</td>\n",
       "    </tr>\n",
       "    <tr>\n",
       "      <th>2475</th>\n",
       "      <td>1405011001503</td>\n",
       "      <td>19</td>\n",
       "      <td>POLYGON ((-69.318147961759 -20.48264195885929,...</td>\n",
       "    </tr>\n",
       "    <tr>\n",
       "      <th>2476</th>\n",
       "      <td>1405011001502</td>\n",
       "      <td>55</td>\n",
       "      <td>POLYGON ((-69.31981929962092 -20.4804079898368...</td>\n",
       "    </tr>\n",
       "    <tr>\n",
       "      <th>2477</th>\n",
       "      <td>1405011001504</td>\n",
       "      <td>56</td>\n",
       "      <td>POLYGON ((-69.31194956532016 -20.4760753242168...</td>\n",
       "    </tr>\n",
       "    <tr>\n",
       "      <th>2478</th>\n",
       "      <td>1405011001501</td>\n",
       "      <td>35</td>\n",
       "      <td>POLYGON ((-69.32599096281263 -20.4884886978950...</td>\n",
       "    </tr>\n",
       "    <tr>\n",
       "      <th>2479</th>\n",
       "      <td>1405011001500</td>\n",
       "      <td>177</td>\n",
       "      <td>POLYGON ((-69.3241147962608 -20.48436655097549...</td>\n",
       "    </tr>\n",
       "    <tr>\n",
       "      <th>2480</th>\n",
       "      <td>1405011001006</td>\n",
       "      <td>24</td>\n",
       "      <td>POLYGON ((-69.33583313519102 -20.4952543507076...</td>\n",
       "    </tr>\n",
       "    <tr>\n",
       "      <th>2481</th>\n",
       "      <td>1405011001005</td>\n",
       "      <td>24</td>\n",
       "      <td>POLYGON ((-69.33471215813955 -20.4952016927039...</td>\n",
       "    </tr>\n",
       "    <tr>\n",
       "      <th>2482</th>\n",
       "      <td>1405011001901</td>\n",
       "      <td>113</td>\n",
       "      <td>(POLYGON ((-69.32663778400649 -20.499157956974...</td>\n",
       "    </tr>\n",
       "  </tbody>\n",
       "</table>\n",
       "<p>2483 rows × 3 columns</p>\n",
       "</div>"
      ],
      "text/plain": [
       "          MANZENT_I  TOTAL_PERS  \\\n",
       "0     1101021005003          10   \n",
       "1     1101021005021         915   \n",
       "2     1101021005016          23   \n",
       "3     1101021005013          49   \n",
       "4     1101021005015          53   \n",
       "5     1101021005022         175   \n",
       "6     1101021005025         182   \n",
       "7     1101021005020          53   \n",
       "8     1101021005019          19   \n",
       "9     1101021001005         442   \n",
       "10    1101021005018         114   \n",
       "11    1101021005026          25   \n",
       "12    1101021003005         337   \n",
       "13    1101021005027         256   \n",
       "14    1101021005004          67   \n",
       "15    1101021005009         110   \n",
       "16    1101021003004         101   \n",
       "17    1101021005035           0   \n",
       "18    1101021005028         134   \n",
       "19    1101021005023         215   \n",
       "20    1101021005033         701   \n",
       "21    1101021003002          80   \n",
       "22    1101021005037          83   \n",
       "23    1101021003003         120   \n",
       "24    1101021001008         138   \n",
       "25    1101021001006         147   \n",
       "26    1101021005031          89   \n",
       "27    1101021003009          28   \n",
       "28    1101021004001          99   \n",
       "29    1101021005029          83   \n",
       "...             ...         ...   \n",
       "2453  1405011001014          94   \n",
       "2454  1405011001074          17   \n",
       "2455  1405011001073          42   \n",
       "2456  1405011001102          20   \n",
       "2457  1405011001013         132   \n",
       "2458  1405011001008         135   \n",
       "2459  1405011001012         119   \n",
       "2460  1405011001009          98   \n",
       "2461  1405011001004          21   \n",
       "2462  1405011001007          29   \n",
       "2463  1405011001108          22   \n",
       "2464  1405011001107          19   \n",
       "2465  1405011001113          12   \n",
       "2466  1405011001105          59   \n",
       "2467  1405011001118           0   \n",
       "2468  1405011001016          11   \n",
       "2469  1405011001111          31   \n",
       "2470  1405011001112          50   \n",
       "2471  1405011001106          35   \n",
       "2472  1405011001048          19   \n",
       "2473  1405011001109          18   \n",
       "2474  1405011001511          31   \n",
       "2475  1405011001503          19   \n",
       "2476  1405011001502          55   \n",
       "2477  1405011001504          56   \n",
       "2478  1405011001501          35   \n",
       "2479  1405011001500         177   \n",
       "2480  1405011001006          24   \n",
       "2481  1405011001005          24   \n",
       "2482  1405011001901         113   \n",
       "\n",
       "                                               geometry  \n",
       "0     POLYGON ((-70.129871564621 -20.20814336022784,...  \n",
       "1     POLYGON ((-70.1463523308953 -20.20653207009889...  \n",
       "2     POLYGON ((-70.14544017912095 -20.2072184515702...  \n",
       "3     POLYGON ((-70.14391542175929 -20.2076609872647...  \n",
       "4     POLYGON ((-70.14544379799287 -20.2083801607158...  \n",
       "5     POLYGON ((-70.14878253468618 -20.2084074335561...  \n",
       "6     POLYGON ((-70.14572659790412 -20.2093319698944...  \n",
       "7     POLYGON ((-70.14659923706512 -20.2077315840453...  \n",
       "8     POLYGON ((-70.14640678124789 -20.2077466638774...  \n",
       "9     POLYGON ((-70.14993747463473 -20.2091133653894...  \n",
       "10    POLYGON ((-70.14565231839975 -20.2086245559784...  \n",
       "11    POLYGON ((-70.14451368315991 -20.2083787235992...  \n",
       "12    POLYGON ((-70.12932392066239 -20.2094313162022...  \n",
       "13    POLYGON ((-70.14192139995259 -20.2092985609797...  \n",
       "14    POLYGON ((-70.13786974009639 -20.2089350756931...  \n",
       "15    POLYGON ((-70.14223821132435 -20.2085038822482...  \n",
       "16    POLYGON ((-70.12973141337397 -20.2088285815737...  \n",
       "17    POLYGON ((-70.1439410488403 -20.20953090442765...  \n",
       "18    POLYGON ((-70.14040027675134 -20.2088777376174...  \n",
       "19    POLYGON ((-70.14712526222104 -20.2108282691093...  \n",
       "20    POLYGON ((-70.1414061001114 -20.20941710691392...  \n",
       "21    POLYGON ((-70.13142190409758 -20.2097372080057...  \n",
       "22    POLYGON ((-70.14453263817069 -20.2094398615603...  \n",
       "23    POLYGON ((-70.13075497766005 -20.2096689503617...  \n",
       "24    POLYGON ((-70.1510671022649 -20.21087873906254...  \n",
       "25    POLYGON ((-70.14951920714566 -20.2098661213244...  \n",
       "26    POLYGON ((-70.13989028021223 -20.2096721618407...  \n",
       "27    POLYGON ((-70.12978709489846 -20.2096876463677...  \n",
       "28    POLYGON ((-70.1358459840049 -20.20951991471225...  \n",
       "29    POLYGON ((-70.13762062609101 -20.2103732724085...  \n",
       "...                                                 ...  \n",
       "2453  POLYGON ((-69.33482828669605 -20.4924736856120...  \n",
       "2454  POLYGON ((-69.33234514880951 -20.4919845407538...  \n",
       "2455  POLYGON ((-69.33263411087546 -20.4925391994244...  \n",
       "2456  POLYGON ((-69.32593826703737 -20.4943196466343...  \n",
       "2457  POLYGON ((-69.33451942982776 -20.4928574865837...  \n",
       "2458  POLYGON ((-69.33430043231908 -20.4933788055873...  \n",
       "2459  POLYGON ((-69.33426397110532 -20.4932813883253...  \n",
       "2460  POLYGON ((-69.33349055864232 -20.4942592967291...  \n",
       "2461  POLYGON ((-69.33636061095342 -20.4948714166824...  \n",
       "2462  POLYGON ((-69.33423485465477 -20.4940591463125...  \n",
       "2463  POLYGON ((-69.34374424370185 -20.5066378720401...  \n",
       "2464  POLYGON ((-69.35129121042098 -20.5081102052217...  \n",
       "2465  POLYGON ((-69.31771656506737 -20.4907215598520...  \n",
       "2466  POLYGON ((-69.33269857517905 -20.4986734247387...  \n",
       "2467  POLYGON ((-69.31763826289546 -20.4886843606946...  \n",
       "2468  POLYGON ((-69.33788695202117 -20.4881220541894...  \n",
       "2469  POLYGON ((-69.32521365808384 -20.4985415148789...  \n",
       "2470  POLYGON ((-69.32281024329802 -20.4930127212600...  \n",
       "2471  POLYGON ((-69.34065312903863 -20.5033408306147...  \n",
       "2472  POLYGON ((-69.32590741039866 -20.4851228718230...  \n",
       "2473  POLYGON ((-69.33672932040179 -20.5065475540263...  \n",
       "2474  POLYGON ((-69.33126517814543 -20.5015452963782...  \n",
       "2475  POLYGON ((-69.318147961759 -20.48264195885929,...  \n",
       "2476  POLYGON ((-69.31981929962092 -20.4804079898368...  \n",
       "2477  POLYGON ((-69.31194956532016 -20.4760753242168...  \n",
       "2478  POLYGON ((-69.32599096281263 -20.4884886978950...  \n",
       "2479  POLYGON ((-69.3241147962608 -20.48436655097549...  \n",
       "2480  POLYGON ((-69.33583313519102 -20.4952543507076...  \n",
       "2481  POLYGON ((-69.33471215813955 -20.4952016927039...  \n",
       "2482  (POLYGON ((-69.32663778400649 -20.499157956974...  \n",
       "\n",
       "[2483 rows x 3 columns]"
      ]
     },
     "execution_count": 47,
     "metadata": {},
     "output_type": "execute_result"
    }
   ],
   "source": [
    "list_dataframes[0][1]"
   ]
  },
  {
   "cell_type": "code",
   "execution_count": 33,
   "metadata": {},
   "outputs": [
    {
     "data": {
      "text/plain": [
       "2"
      ]
     },
     "execution_count": 33,
     "metadata": {},
     "output_type": "execute_result"
    }
   ],
   "source": [
    "a[0][1]"
   ]
  },
  {
   "cell_type": "code",
   "execution_count": null,
   "metadata": {},
   "outputs": [],
   "source": [
    "tarapaca_entidad = geopandas.read_file('./tarapaca/ENTIDAD_C17.shp')"
   ]
  },
  {
   "cell_type": "code",
   "execution_count": 2,
   "metadata": {},
   "outputs": [
    {
     "name": "stdout",
     "output_type": "stream",
     "text": [
      " El volumen de la unidad C no tiene etiqueta.\n",
      " El n£mero de serie del volumen es: 48E8-1CA4\n",
      "\n",
      " Directorio de C:\\Users\\SynergicTemp\\Downloads\\Censo2017_Identificaci¢n_Geogr fica\\georeferencia\n",
      "\n",
      "16/07/2018  14:38    <DIR>          .\n",
      "16/07/2018  14:38    <DIR>          ..\n",
      "16/07/2018  10:45    <DIR>          .ipynb_checkpoints\n",
      "16/07/2018  10:55    <DIR>          chile_provincia\n",
      "16/07/2018  14:38           567.186 Geolocation.ipynb\n",
      "16/07/2018  10:08    <DIR>          R01_Tarapaca\n",
      "16/07/2018  10:09    <DIR>          R02_Antofagasta\n",
      "16/07/2018  10:10    <DIR>          R03_Atacama\n",
      "16/07/2018  10:11    <DIR>          R04_Coquimbo\n",
      "16/07/2018  10:13    <DIR>          R05_Valparaiso\n",
      "16/07/2018  10:15    <DIR>          R06_Libertador Bernardo O'Higgins\n",
      "16/07/2018  10:16    <DIR>          R07_Maule\n",
      "16/07/2018  10:17    <DIR>          R08_Biobio\n",
      "16/07/2018  10:19    <DIR>          R09_Araucania\n",
      "16/07/2018  10:21    <DIR>          R10_Los_lagos\n",
      "16/07/2018  10:22    <DIR>          R11_Ays‚n del General Ib ¤ez del Campo\n",
      "16/07/2018  10:23    <DIR>          R12_Magallanes y La Ant rtica Chilena\n",
      "16/07/2018  10:14    <DIR>          R13_Metropolitana\n",
      "16/07/2018  10:20    <DIR>          R14_Los_Rios\n",
      "16/07/2018  10:08    <DIR>          R15_Arica_y_Parinacota\n",
      "               1 archivos        567.186 bytes\n",
      "              19 dirs  398.114.750.464 bytes libres\n"
     ]
    }
   ],
   "source": [
    "! dir"
   ]
  },
  {
   "cell_type": "code",
   "execution_count": 3,
   "metadata": {},
   "outputs": [],
   "source": [
    "ruta_chile = './chile_provincia/cl_provincias_geo.shp'"
   ]
  },
  {
   "cell_type": "code",
   "execution_count": 5,
   "metadata": {},
   "outputs": [
    {
     "data": {
      "text/html": [
       "<div>\n",
       "<style scoped>\n",
       "    .dataframe tbody tr th:only-of-type {\n",
       "        vertical-align: middle;\n",
       "    }\n",
       "\n",
       "    .dataframe tbody tr th {\n",
       "        vertical-align: top;\n",
       "    }\n",
       "\n",
       "    .dataframe thead th {\n",
       "        text-align: right;\n",
       "    }\n",
       "</style>\n",
       "<table border=\"1\" class=\"dataframe\">\n",
       "  <thead>\n",
       "    <tr style=\"text-align: right;\">\n",
       "      <th></th>\n",
       "      <th>ID_2002</th>\n",
       "      <th>NOMBRE</th>\n",
       "      <th>geometry</th>\n",
       "    </tr>\n",
       "  </thead>\n",
       "  <tbody>\n",
       "    <tr>\n",
       "      <th>0</th>\n",
       "      <td>152</td>\n",
       "      <td>Parinacota</td>\n",
       "      <td>POLYGON ((-68.95083700000001 -18.937334, -68.9...</td>\n",
       "    </tr>\n",
       "    <tr>\n",
       "      <th>1</th>\n",
       "      <td>151</td>\n",
       "      <td>Arica</td>\n",
       "      <td>POLYGON ((-70.37630799999999 -18.349593, -70.3...</td>\n",
       "    </tr>\n",
       "    <tr>\n",
       "      <th>2</th>\n",
       "      <td>011</td>\n",
       "      <td>Iquique</td>\n",
       "      <td>POLYGON ((-70.10809999999999 -20.350104, -70.0...</td>\n",
       "    </tr>\n",
       "    <tr>\n",
       "      <th>3</th>\n",
       "      <td>014</td>\n",
       "      <td>Tamarugal</td>\n",
       "      <td>POLYGON ((-70.286169 -19.228974, -70.130959 -1...</td>\n",
       "    </tr>\n",
       "    <tr>\n",
       "      <th>4</th>\n",
       "      <td>023</td>\n",
       "      <td>Tocopilla</td>\n",
       "      <td>POLYGON ((-69.96646 -22.425786, -70.264342 -22...</td>\n",
       "    </tr>\n",
       "  </tbody>\n",
       "</table>\n",
       "</div>"
      ],
      "text/plain": [
       "  ID_2002      NOMBRE                                           geometry\n",
       "0     152  Parinacota  POLYGON ((-68.95083700000001 -18.937334, -68.9...\n",
       "1     151       Arica  POLYGON ((-70.37630799999999 -18.349593, -70.3...\n",
       "2     011     Iquique  POLYGON ((-70.10809999999999 -20.350104, -70.0...\n",
       "3     014   Tamarugal  POLYGON ((-70.286169 -19.228974, -70.130959 -1...\n",
       "4     023   Tocopilla  POLYGON ((-69.96646 -22.425786, -70.264342 -22..."
      ]
     },
     "execution_count": 5,
     "metadata": {},
     "output_type": "execute_result"
    }
   ],
   "source": [
    "data.head()"
   ]
  },
  {
   "cell_type": "code",
   "execution_count": 6,
   "metadata": {},
   "outputs": [],
   "source": [
    "data.plot(figsize=(20,20));"
   ]
  },
  {
   "cell_type": "code",
   "execution_count": 7,
   "metadata": {
    "scrolled": true
   },
   "outputs": [
    {
     "data": {
      "text/plain": [
       "<matplotlib.axes._subplots.AxesSubplot at 0x29c3e4a4128>"
      ]
     },
     "execution_count": 7,
     "metadata": {},
     "output_type": "execute_result"
    },
    {
     "data": {
      "image/png": "[encoded data removed]",
      "text/plain": [
       "<matplotlib.figure.Figure at 0x29c3e4973c8>"
      ]
     },
     "metadata": {},
     "output_type": "display_data"
    }
   ],
   "source": [
    "data.plot(column='ID_2002', figsize=(20,20))"
   ]
  },
  {
   "cell_type": "markdown",
   "metadata": {},
   "source": [
    "One can also modify the colors used by plot with the cmap option (for a full list of colormaps, see the matplotlib (https://matplotlib.org/users/colormaps.html) website\n",
    "\n",
    "world.plot(column='gdp_per_cap', cmap='OrRd');"
   ]
  },
  {
   "cell_type": "markdown",
   "metadata": {},
   "source": [
    "To change CRS (coordinates reference system) to the model one: \n",
    "\n",
    "cities = cities.to_crs(world.crs)"
   ]
  },
  {
   "cell_type": "markdown",
   "metadata": {},
   "source": [
    "## Tarapaca"
   ]
  },
  {
   "cell_type": "code",
   "execution_count": 2,
   "metadata": {},
   "outputs": [],
   "source": [
    "tarapaca_entidad = geopandas.read_file('./tarapaca/ENTIDAD_C17.shp')"
   ]
  },
  {
   "cell_type": "code",
   "execution_count": 3,
   "metadata": {},
   "outputs": [
    {
     "data": {
      "text/plain": [
       "(303, 19)"
      ]
     },
     "execution_count": 3,
     "metadata": {},
     "output_type": "execute_result"
    }
   ],
   "source": [
    "tarapaca_entidad.shape"
   ]
  },
  {
   "cell_type": "code",
   "execution_count": 5,
   "metadata": {},
   "outputs": [],
   "source": [
    "tarapaca_reduced = tarapaca_entidad[['NOM_COMUNA', 'TOTAL_PERS', 'geometry']]"
   ]
  },
  {
   "cell_type": "code",
   "execution_count": 6,
   "metadata": {},
   "outputs": [
    {
     "data": {
      "text/html": [
       "<div>\n",
       "<style scoped>\n",
       "    .dataframe tbody tr th:only-of-type {\n",
       "        vertical-align: middle;\n",
       "    }\n",
       "\n",
       "    .dataframe tbody tr th {\n",
       "        vertical-align: top;\n",
       "    }\n",
       "\n",
       "    .dataframe thead th {\n",
       "        text-align: right;\n",
       "    }\n",
       "</style>\n",
       "<table border=\"1\" class=\"dataframe\">\n",
       "  <thead>\n",
       "    <tr style=\"text-align: right;\">\n",
       "      <th></th>\n",
       "      <th>NOM_COMUNA</th>\n",
       "      <th>TOTAL_PERS</th>\n",
       "      <th>geometry</th>\n",
       "    </tr>\n",
       "  </thead>\n",
       "  <tbody>\n",
       "    <tr>\n",
       "      <th>0</th>\n",
       "      <td>IQUIQUE</td>\n",
       "      <td>30</td>\n",
       "      <td>(POLYGON ((-70.05040897699996 -21.427667070999...</td>\n",
       "    </tr>\n",
       "    <tr>\n",
       "      <th>1</th>\n",
       "      <td>IQUIQUE</td>\n",
       "      <td>14</td>\n",
       "      <td>POLYGON ((-70.14891894999994 -21.0102753829999...</td>\n",
       "    </tr>\n",
       "    <tr>\n",
       "      <th>2</th>\n",
       "      <td>IQUIQUE</td>\n",
       "      <td>16</td>\n",
       "      <td>POLYGON ((-70.17176999999998 -21.0127199999999...</td>\n",
       "    </tr>\n",
       "    <tr>\n",
       "      <th>3</th>\n",
       "      <td>IQUIQUE</td>\n",
       "      <td>131</td>\n",
       "      <td>POLYGON ((-70.13977348899994 -20.9710522339999...</td>\n",
       "    </tr>\n",
       "    <tr>\n",
       "      <th>4</th>\n",
       "      <td>IQUIQUE</td>\n",
       "      <td>5</td>\n",
       "      <td>POLYGON ((-70.06673145899998 -21.0194976639999...</td>\n",
       "    </tr>\n",
       "  </tbody>\n",
       "</table>\n",
       "</div>"
      ],
      "text/plain": [
       "  NOM_COMUNA  TOTAL_PERS                                           geometry\n",
       "0    IQUIQUE          30  (POLYGON ((-70.05040897699996 -21.427667070999...\n",
       "1    IQUIQUE          14  POLYGON ((-70.14891894999994 -21.0102753829999...\n",
       "2    IQUIQUE          16  POLYGON ((-70.17176999999998 -21.0127199999999...\n",
       "3    IQUIQUE         131  POLYGON ((-70.13977348899994 -20.9710522339999...\n",
       "4    IQUIQUE           5  POLYGON ((-70.06673145899998 -21.0194976639999..."
      ]
     },
     "execution_count": 6,
     "metadata": {},
     "output_type": "execute_result"
    }
   ],
   "source": [
    "tarapaca_reduced.head()"
   ]
  },
  {
   "cell_type": "code",
   "execution_count": 7,
   "metadata": {},
   "outputs": [
    {
     "data": {
      "text/html": [
       "<div>\n",
       "<style scoped>\n",
       "    .dataframe tbody tr th:only-of-type {\n",
       "        vertical-align: middle;\n",
       "    }\n",
       "\n",
       "    .dataframe tbody tr th {\n",
       "        vertical-align: top;\n",
       "    }\n",
       "\n",
       "    .dataframe thead th {\n",
       "        text-align: right;\n",
       "    }\n",
       "</style>\n",
       "<table border=\"1\" class=\"dataframe\">\n",
       "  <thead>\n",
       "    <tr style=\"text-align: right;\">\n",
       "      <th></th>\n",
       "      <th>geometry</th>\n",
       "      <th>TOTAL_PERS</th>\n",
       "    </tr>\n",
       "    <tr>\n",
       "      <th>NOM_COMUNA</th>\n",
       "      <th></th>\n",
       "      <th></th>\n",
       "    </tr>\n",
       "  </thead>\n",
       "  <tbody>\n",
       "    <tr>\n",
       "      <th>ALTO HOSPICIO</th>\n",
       "      <td>POLYGON ((-70.10699383399998 -20.3036555059999...</td>\n",
       "      <td>0</td>\n",
       "    </tr>\n",
       "    <tr>\n",
       "      <th>CAMIÑA</th>\n",
       "      <td>POLYGON ((-69.22752600099994 -19.3796789739999...</td>\n",
       "      <td>0</td>\n",
       "    </tr>\n",
       "    <tr>\n",
       "      <th>COLCHANE</th>\n",
       "      <td>POLYGON ((-68.67936788699996 -19.7170699939999...</td>\n",
       "      <td>31</td>\n",
       "    </tr>\n",
       "    <tr>\n",
       "      <th>HUARA</th>\n",
       "      <td>POLYGON ((-69.06702123599996 -19.9448559749999...</td>\n",
       "      <td>0</td>\n",
       "    </tr>\n",
       "    <tr>\n",
       "      <th>IQUIQUE</th>\n",
       "      <td>(POLYGON ((-70.11325868499995 -20.284077736999...</td>\n",
       "      <td>30</td>\n",
       "    </tr>\n",
       "    <tr>\n",
       "      <th>PICA</th>\n",
       "      <td>POLYGON ((-69.27637997299996 -20.7095039879999...</td>\n",
       "      <td>203</td>\n",
       "    </tr>\n",
       "    <tr>\n",
       "      <th>POZO ALMONTE</th>\n",
       "      <td>POLYGON ((-69.42799469799996 -21.5103179099999...</td>\n",
       "      <td>97</td>\n",
       "    </tr>\n",
       "  </tbody>\n",
       "</table>\n",
       "</div>"
      ],
      "text/plain": [
       "                                                        geometry  TOTAL_PERS\n",
       "NOM_COMUNA                                                                  \n",
       "ALTO HOSPICIO  POLYGON ((-70.10699383399998 -20.3036555059999...           0\n",
       "CAMIÑA         POLYGON ((-69.22752600099994 -19.3796789739999...           0\n",
       "COLCHANE       POLYGON ((-68.67936788699996 -19.7170699939999...          31\n",
       "HUARA          POLYGON ((-69.06702123599996 -19.9448559749999...           0\n",
       "IQUIQUE        (POLYGON ((-70.11325868499995 -20.284077736999...          30\n",
       "PICA           POLYGON ((-69.27637997299996 -20.7095039879999...         203\n",
       "POZO ALMONTE   POLYGON ((-69.42799469799996 -21.5103179099999...          97"
      ]
     },
     "execution_count": 7,
     "metadata": {},
     "output_type": "execute_result"
    }
   ],
   "source": [
    "tarapaca_reduced.dissolve(by='NOM_COMUNA')"
   ]
  },
  {
   "cell_type": "code",
   "execution_count": 10,
   "metadata": {},
   "outputs": [],
   "source": [
    "drop_columns = ['REGION', 'NOM_REGION', 'PROVINCIA', 'NOM_PROVIN', 'COMUNA',\n",
    "       'NOM_COMUNA', 'DISTRITO', 'LOCALIDAD', 'NOM_LOCALI', 'ENTIDAD',\n",
    "       'NOM_ENTIDA', 'CATEGORIA', 'NOM_CATEGO',\n",
    "       'TOTAL_VIVI', 'SHAPE_Leng', 'SHAPE_Area']"
   ]
  },
  {
   "cell_type": "code",
   "execution_count": 11,
   "metadata": {},
   "outputs": [],
   "source": [
    "tarapaca_entidad.drop(drop_columns, axis=1 , inplace=True)"
   ]
  },
  {
   "cell_type": "code",
   "execution_count": 12,
   "metadata": {},
   "outputs": [
    {
     "data": {
      "text/html": [
       "<div>\n",
       "<style scoped>\n",
       "    .dataframe tbody tr th:only-of-type {\n",
       "        vertical-align: middle;\n",
       "    }\n",
       "\n",
       "    .dataframe tbody tr th {\n",
       "        vertical-align: top;\n",
       "    }\n",
       "\n",
       "    .dataframe thead th {\n",
       "        text-align: right;\n",
       "    }\n",
       "</style>\n",
       "<table border=\"1\" class=\"dataframe\">\n",
       "  <thead>\n",
       "    <tr style=\"text-align: right;\">\n",
       "      <th></th>\n",
       "      <th>MANZENT_I</th>\n",
       "      <th>TOTAL_PERS</th>\n",
       "      <th>geometry</th>\n",
       "    </tr>\n",
       "  </thead>\n",
       "  <tbody>\n",
       "    <tr>\n",
       "      <th>0</th>\n",
       "      <td>1101092901901</td>\n",
       "      <td>30</td>\n",
       "      <td>(POLYGON ((-70.05040897699996 -21.427667070999...</td>\n",
       "    </tr>\n",
       "    <tr>\n",
       "      <th>1</th>\n",
       "      <td>1101092021041</td>\n",
       "      <td>14</td>\n",
       "      <td>POLYGON ((-70.14891894999994 -21.0102753829999...</td>\n",
       "    </tr>\n",
       "    <tr>\n",
       "      <th>2</th>\n",
       "      <td>1101092021045</td>\n",
       "      <td>16</td>\n",
       "      <td>POLYGON ((-70.17176999999998 -21.0127199999999...</td>\n",
       "    </tr>\n",
       "    <tr>\n",
       "      <th>3</th>\n",
       "      <td>1101092021048</td>\n",
       "      <td>131</td>\n",
       "      <td>POLYGON ((-70.13977348899994 -20.9710522339999...</td>\n",
       "    </tr>\n",
       "    <tr>\n",
       "      <th>4</th>\n",
       "      <td>1101092021047</td>\n",
       "      <td>5</td>\n",
       "      <td>POLYGON ((-70.06673145899998 -21.0194976639999...</td>\n",
       "    </tr>\n",
       "  </tbody>\n",
       "</table>\n",
       "</div>"
      ],
      "text/plain": [
       "       MANZENT_I  TOTAL_PERS  \\\n",
       "0  1101092901901          30   \n",
       "1  1101092021041          14   \n",
       "2  1101092021045          16   \n",
       "3  1101092021048         131   \n",
       "4  1101092021047           5   \n",
       "\n",
       "                                            geometry  \n",
       "0  (POLYGON ((-70.05040897699996 -21.427667070999...  \n",
       "1  POLYGON ((-70.14891894999994 -21.0102753829999...  \n",
       "2  POLYGON ((-70.17176999999998 -21.0127199999999...  \n",
       "3  POLYGON ((-70.13977348899994 -20.9710522339999...  \n",
       "4  POLYGON ((-70.06673145899998 -21.0194976639999...  "
      ]
     },
     "execution_count": 12,
     "metadata": {},
     "output_type": "execute_result"
    }
   ],
   "source": [
    "tarapaca_entidad.head()"
   ]
  },
  {
   "cell_type": "code",
   "execution_count": 13,
   "metadata": {},
   "outputs": [],
   "source": [
    "tarapaca_manzana = geopandas.read_file('./tarapaca/MANZANA_IND_C17.shp')"
   ]
  },
  {
   "cell_type": "code",
   "execution_count": 14,
   "metadata": {},
   "outputs": [],
   "source": [
    "tarapaca_manzana.drop(['REGION', 'NOM_REGION', 'PROVINCIA', 'NOM_PROVIN', 'COMUNA',\n",
    "       'NOM_COMUNA', 'DISTRITO', 'LOCALIDAD', 'ENTIDAD_MA', 'CATEGORIA',\n",
    "       'NOM_CATEGO', 'TOTAL_VIVI', 'Shape_Leng',\n",
    "       'Shape_Area'], axis=1, inplace=True)"
   ]
  },
  {
   "cell_type": "code",
   "execution_count": 15,
   "metadata": {},
   "outputs": [
    {
     "data": {
      "text/html": [
       "<div>\n",
       "<style scoped>\n",
       "    .dataframe tbody tr th:only-of-type {\n",
       "        vertical-align: middle;\n",
       "    }\n",
       "\n",
       "    .dataframe tbody tr th {\n",
       "        vertical-align: top;\n",
       "    }\n",
       "\n",
       "    .dataframe thead th {\n",
       "        text-align: right;\n",
       "    }\n",
       "</style>\n",
       "<table border=\"1\" class=\"dataframe\">\n",
       "  <thead>\n",
       "    <tr style=\"text-align: right;\">\n",
       "      <th></th>\n",
       "      <th>MANZENT_I</th>\n",
       "      <th>TOTAL_PERS</th>\n",
       "      <th>geometry</th>\n",
       "    </tr>\n",
       "  </thead>\n",
       "  <tbody>\n",
       "    <tr>\n",
       "      <th>0</th>\n",
       "      <td>1101021005003</td>\n",
       "      <td>10</td>\n",
       "      <td>POLYGON ((-70.129871564621 -20.20814336022784,...</td>\n",
       "    </tr>\n",
       "    <tr>\n",
       "      <th>1</th>\n",
       "      <td>1101021005021</td>\n",
       "      <td>915</td>\n",
       "      <td>POLYGON ((-70.1463523308953 -20.20653207009889...</td>\n",
       "    </tr>\n",
       "    <tr>\n",
       "      <th>2</th>\n",
       "      <td>1101021005016</td>\n",
       "      <td>23</td>\n",
       "      <td>POLYGON ((-70.14544017912095 -20.2072184515702...</td>\n",
       "    </tr>\n",
       "    <tr>\n",
       "      <th>3</th>\n",
       "      <td>1101021005013</td>\n",
       "      <td>49</td>\n",
       "      <td>POLYGON ((-70.14391542175929 -20.2076609872647...</td>\n",
       "    </tr>\n",
       "    <tr>\n",
       "      <th>4</th>\n",
       "      <td>1101021005015</td>\n",
       "      <td>53</td>\n",
       "      <td>POLYGON ((-70.14544379799287 -20.2083801607158...</td>\n",
       "    </tr>\n",
       "  </tbody>\n",
       "</table>\n",
       "</div>"
      ],
      "text/plain": [
       "       MANZENT_I  TOTAL_PERS  \\\n",
       "0  1101021005003          10   \n",
       "1  1101021005021         915   \n",
       "2  1101021005016          23   \n",
       "3  1101021005013          49   \n",
       "4  1101021005015          53   \n",
       "\n",
       "                                            geometry  \n",
       "0  POLYGON ((-70.129871564621 -20.20814336022784,...  \n",
       "1  POLYGON ((-70.1463523308953 -20.20653207009889...  \n",
       "2  POLYGON ((-70.14544017912095 -20.2072184515702...  \n",
       "3  POLYGON ((-70.14391542175929 -20.2076609872647...  \n",
       "4  POLYGON ((-70.14544379799287 -20.2083801607158...  "
      ]
     },
     "execution_count": 15,
     "metadata": {},
     "output_type": "execute_result"
    }
   ],
   "source": [
    "tarapaca_manzana.head()"
   ]
  },
  {
   "cell_type": "code",
   "execution_count": 16,
   "metadata": {},
   "outputs": [],
   "source": [
    "tarapaca = pd.concat([tarapaca_manzana, tarapaca_entidad], ignore_index=True)"
   ]
  },
  {
   "cell_type": "code",
   "execution_count": 17,
   "metadata": {},
   "outputs": [
    {
     "data": {
      "text/plain": [
       "<matplotlib.axes._subplots.AxesSubplot at 0x29c3cf6b5f8>"
      ]
     },
     "execution_count": 17,
     "metadata": {},
     "output_type": "execute_result"
    },
    {
     "data": {
      "image/png": "[encoded data removed]",
      "text/plain": [
       "<matplotlib.figure.Figure at 0x29c3cf6b278>"
      ]
     },
     "metadata": {},
     "output_type": "display_data"
    }
   ],
   "source": [
    "tarapaca.plot()"
   ]
  },
  {
   "cell_type": "code",
   "execution_count": 62,
   "metadata": {},
   "outputs": [
    {
     "data": {
      "text/plain": [
       "<matplotlib.axes._subplots.AxesSubplot at 0x29c3f6642b0>"
      ]
     },
     "execution_count": 62,
     "metadata": {},
     "output_type": "execute_result"
    },
    {
     "data": {
      "image/png": "[encoded data removed]",
      "text/plain": [
       "<matplotlib.figure.Figure at 0x29c3f6647b8>"
      ]
     },
     "metadata": {},
     "output_type": "display_data"
    }
   ],
   "source": [
    "localidad = geopandas.read_file('./tarapaca/DISTRITO_C17.shp')\n",
    "localidad.plot()"
   ]
  },
  {
   "cell_type": "code",
   "execution_count": 44,
   "metadata": {},
   "outputs": [
    {
     "data": {
      "text/html": [
       "<div>\n",
       "<style scoped>\n",
       "    .dataframe tbody tr th:only-of-type {\n",
       "        vertical-align: middle;\n",
       "    }\n",
       "\n",
       "    .dataframe tbody tr th {\n",
       "        vertical-align: top;\n",
       "    }\n",
       "\n",
       "    .dataframe thead th {\n",
       "        text-align: right;\n",
       "    }\n",
       "</style>\n",
       "<table border=\"1\" class=\"dataframe\">\n",
       "  <thead>\n",
       "    <tr style=\"text-align: right;\">\n",
       "      <th></th>\n",
       "      <th>REGION</th>\n",
       "      <th>NOM_REGION</th>\n",
       "      <th>PROVINCIA</th>\n",
       "      <th>NOM_PROVIN</th>\n",
       "      <th>COMUNA</th>\n",
       "      <th>NOM_COMUNA</th>\n",
       "      <th>COD_DISTRI</th>\n",
       "      <th>TIPO_DISTR</th>\n",
       "      <th>Shape_Leng</th>\n",
       "      <th>Shape_Area</th>\n",
       "      <th>geometry</th>\n",
       "    </tr>\n",
       "  </thead>\n",
       "  <tbody>\n",
       "    <tr>\n",
       "      <th>0</th>\n",
       "      <td>1</td>\n",
       "      <td>REGIÓN DE TARAPACÁ</td>\n",
       "      <td>14</td>\n",
       "      <td>TAMARUGAL</td>\n",
       "      <td>1401</td>\n",
       "      <td>POZO ALMONTE</td>\n",
       "      <td>2</td>\n",
       "      <td>RURAL</td>\n",
       "      <td>1.699069</td>\n",
       "      <td>0.139573</td>\n",
       "      <td>POLYGON ((-68.99252635011095 -19.9202283290740...</td>\n",
       "    </tr>\n",
       "    <tr>\n",
       "      <th>1</th>\n",
       "      <td>1</td>\n",
       "      <td>REGIÓN DE TARAPACÁ</td>\n",
       "      <td>14</td>\n",
       "      <td>TAMARUGAL</td>\n",
       "      <td>1401</td>\n",
       "      <td>POZO ALMONTE</td>\n",
       "      <td>3</td>\n",
       "      <td>RURAL</td>\n",
       "      <td>1.096767</td>\n",
       "      <td>0.076181</td>\n",
       "      <td>POLYGON ((-69.64957999961723 -20.2510400001958...</td>\n",
       "    </tr>\n",
       "    <tr>\n",
       "      <th>2</th>\n",
       "      <td>1</td>\n",
       "      <td>REGIÓN DE TARAPACÁ</td>\n",
       "      <td>14</td>\n",
       "      <td>TAMARUGAL</td>\n",
       "      <td>1401</td>\n",
       "      <td>POZO ALMONTE</td>\n",
       "      <td>4</td>\n",
       "      <td>RURAL</td>\n",
       "      <td>1.418707</td>\n",
       "      <td>0.101256</td>\n",
       "      <td>POLYGON ((-69.77604896818531 -20.3245412645676...</td>\n",
       "    </tr>\n",
       "    <tr>\n",
       "      <th>3</th>\n",
       "      <td>1</td>\n",
       "      <td>REGIÓN DE TARAPACÁ</td>\n",
       "      <td>14</td>\n",
       "      <td>TAMARUGAL</td>\n",
       "      <td>1401</td>\n",
       "      <td>POZO ALMONTE</td>\n",
       "      <td>7</td>\n",
       "      <td>RURAL</td>\n",
       "      <td>1.465277</td>\n",
       "      <td>0.123512</td>\n",
       "      <td>POLYGON ((-69.74373358593618 -20.5935160086568...</td>\n",
       "    </tr>\n",
       "    <tr>\n",
       "      <th>4</th>\n",
       "      <td>1</td>\n",
       "      <td>REGIÓN DE TARAPACÁ</td>\n",
       "      <td>14</td>\n",
       "      <td>TAMARUGAL</td>\n",
       "      <td>1401</td>\n",
       "      <td>POZO ALMONTE</td>\n",
       "      <td>5</td>\n",
       "      <td>RURAL</td>\n",
       "      <td>3.627066</td>\n",
       "      <td>0.423106</td>\n",
       "      <td>POLYGON ((-69.47505999961925 -20.6208249999737...</td>\n",
       "    </tr>\n",
       "  </tbody>\n",
       "</table>\n",
       "</div>"
      ],
      "text/plain": [
       "  REGION          NOM_REGION PROVINCIA NOM_PROVIN COMUNA    NOM_COMUNA  \\\n",
       "0      1  REGIÓN DE TARAPACÁ        14  TAMARUGAL   1401  POZO ALMONTE   \n",
       "1      1  REGIÓN DE TARAPACÁ        14  TAMARUGAL   1401  POZO ALMONTE   \n",
       "2      1  REGIÓN DE TARAPACÁ        14  TAMARUGAL   1401  POZO ALMONTE   \n",
       "3      1  REGIÓN DE TARAPACÁ        14  TAMARUGAL   1401  POZO ALMONTE   \n",
       "4      1  REGIÓN DE TARAPACÁ        14  TAMARUGAL   1401  POZO ALMONTE   \n",
       "\n",
       "   COD_DISTRI TIPO_DISTR  Shape_Leng  Shape_Area  \\\n",
       "0           2      RURAL    1.699069    0.139573   \n",
       "1           3      RURAL    1.096767    0.076181   \n",
       "2           4      RURAL    1.418707    0.101256   \n",
       "3           7      RURAL    1.465277    0.123512   \n",
       "4           5      RURAL    3.627066    0.423106   \n",
       "\n",
       "                                            geometry  \n",
       "0  POLYGON ((-68.99252635011095 -19.9202283290740...  \n",
       "1  POLYGON ((-69.64957999961723 -20.2510400001958...  \n",
       "2  POLYGON ((-69.77604896818531 -20.3245412645676...  \n",
       "3  POLYGON ((-69.74373358593618 -20.5935160086568...  \n",
       "4  POLYGON ((-69.47505999961925 -20.6208249999737...  "
      ]
     },
     "execution_count": 44,
     "metadata": {},
     "output_type": "execute_result"
    }
   ],
   "source": [
    "localidad.head()"
   ]
  },
  {
   "cell_type": "code",
   "execution_count": 50,
   "metadata": {},
   "outputs": [
    {
     "data": {
      "text/plain": [
       "326115"
      ]
     },
     "execution_count": 50,
     "metadata": {},
     "output_type": "execute_result"
    }
   ],
   "source": [
    "tarapaca['TOTAL_PERS'].sum()"
   ]
  },
  {
   "cell_type": "markdown",
   "metadata": {},
   "source": [
    "## Antofagasta"
   ]
  },
  {
   "cell_type": "code",
   "execution_count": 26,
   "metadata": {},
   "outputs": [
    {
     "data": {
      "text/plain": [
       "<matplotlib.axes._subplots.AxesSubplot at 0x28d275f36d8>"
      ]
     },
     "execution_count": 26,
     "metadata": {},
     "output_type": "execute_result"
    },
    {
     "data": {
      "image/png": "[encoded data removed]",
      "text/plain": [
       "<matplotlib.figure.Figure at 0x28d2747ada0>"
      ]
     },
     "metadata": {},
     "output_type": "display_data"
    }
   ],
   "source": [
    "antof = geopandas.read_file('./antofagasta/ENTIDAD_C17.shp')\n",
    "antof.plot()"
   ]
  },
  {
   "cell_type": "code",
   "execution_count": 28,
   "metadata": {},
   "outputs": [
    {
     "data": {
      "text/plain": [
       "<matplotlib.axes._subplots.AxesSubplot at 0x28d275b6438>"
      ]
     },
     "execution_count": 28,
     "metadata": {},
     "output_type": "execute_result"
    },
    {
     "data": {
      "image/png": "[encoded data removed]",
      "text/plain": [
       "<matplotlib.figure.Figure at 0x28d276453c8>"
      ]
     },
     "metadata": {},
     "output_type": "display_data"
    }
   ],
   "source": [
    "antof = geopandas.read_file('./antofagasta/MANZANA_IND_C2017.shp')\n",
    "antof.plot()"
   ]
  },
  {
   "cell_type": "code",
   "execution_count": 29,
   "metadata": {},
   "outputs": [
    {
     "data": {
      "text/html": [
       "<div>\n",
       "<style scoped>\n",
       "    .dataframe tbody tr th:only-of-type {\n",
       "        vertical-align: middle;\n",
       "    }\n",
       "\n",
       "    .dataframe tbody tr th {\n",
       "        vertical-align: top;\n",
       "    }\n",
       "\n",
       "    .dataframe thead th {\n",
       "        text-align: right;\n",
       "    }\n",
       "</style>\n",
       "<table border=\"1\" class=\"dataframe\">\n",
       "  <thead>\n",
       "    <tr style=\"text-align: right;\">\n",
       "      <th></th>\n",
       "      <th>REGION</th>\n",
       "      <th>NOM_REGION</th>\n",
       "      <th>PROVINCIA</th>\n",
       "      <th>NOM_PROVIN</th>\n",
       "      <th>COMUNA</th>\n",
       "      <th>NOM_COMUNA</th>\n",
       "      <th>DISTRITO</th>\n",
       "      <th>LOCALIDAD</th>\n",
       "      <th>ENTIDAD_MA</th>\n",
       "      <th>CATEGORIA</th>\n",
       "      <th>NOM_CATEGO</th>\n",
       "      <th>MANZENT_I</th>\n",
       "      <th>TOTAL_PERS</th>\n",
       "      <th>TOTAL_VIVI</th>\n",
       "      <th>Shape_Leng</th>\n",
       "      <th>Shape_Area</th>\n",
       "      <th>geometry</th>\n",
       "    </tr>\n",
       "  </thead>\n",
       "  <tbody>\n",
       "    <tr>\n",
       "      <th>0</th>\n",
       "      <td>2</td>\n",
       "      <td>REGIÓN DE ANTOFAGASTA</td>\n",
       "      <td>21</td>\n",
       "      <td>ANTOFAGASTA</td>\n",
       "      <td>2101</td>\n",
       "      <td>ANTOFAGASTA</td>\n",
       "      <td>1</td>\n",
       "      <td>6</td>\n",
       "      <td>5</td>\n",
       "      <td>2</td>\n",
       "      <td>PB</td>\n",
       "      <td>2101011006005</td>\n",
       "      <td>60</td>\n",
       "      <td>12</td>\n",
       "      <td>0.003557</td>\n",
       "      <td>7.071753e-07</td>\n",
       "      <td>POLYGON ((-70.43561573717648 -23.4318549211676...</td>\n",
       "    </tr>\n",
       "    <tr>\n",
       "      <th>1</th>\n",
       "      <td>2</td>\n",
       "      <td>REGIÓN DE ANTOFAGASTA</td>\n",
       "      <td>21</td>\n",
       "      <td>ANTOFAGASTA</td>\n",
       "      <td>2101</td>\n",
       "      <td>ANTOFAGASTA</td>\n",
       "      <td>1</td>\n",
       "      <td>6</td>\n",
       "      <td>2</td>\n",
       "      <td>2</td>\n",
       "      <td>PB</td>\n",
       "      <td>2101011006002</td>\n",
       "      <td>30</td>\n",
       "      <td>9</td>\n",
       "      <td>0.005496</td>\n",
       "      <td>6.123607e-07</td>\n",
       "      <td>POLYGON ((-70.43575342607971 -23.4308022647127...</td>\n",
       "    </tr>\n",
       "    <tr>\n",
       "      <th>2</th>\n",
       "      <td>2</td>\n",
       "      <td>REGIÓN DE ANTOFAGASTA</td>\n",
       "      <td>21</td>\n",
       "      <td>ANTOFAGASTA</td>\n",
       "      <td>2101</td>\n",
       "      <td>ANTOFAGASTA</td>\n",
       "      <td>1</td>\n",
       "      <td>6</td>\n",
       "      <td>3</td>\n",
       "      <td>2</td>\n",
       "      <td>PB</td>\n",
       "      <td>2101011006003</td>\n",
       "      <td>29</td>\n",
       "      <td>12</td>\n",
       "      <td>0.002441</td>\n",
       "      <td>2.767519e-07</td>\n",
       "      <td>POLYGON ((-70.43650111073765 -23.4316401468752...</td>\n",
       "    </tr>\n",
       "    <tr>\n",
       "      <th>3</th>\n",
       "      <td>2</td>\n",
       "      <td>REGIÓN DE ANTOFAGASTA</td>\n",
       "      <td>21</td>\n",
       "      <td>ANTOFAGASTA</td>\n",
       "      <td>2101</td>\n",
       "      <td>ANTOFAGASTA</td>\n",
       "      <td>1</td>\n",
       "      <td>6</td>\n",
       "      <td>4</td>\n",
       "      <td>2</td>\n",
       "      <td>PB</td>\n",
       "      <td>2101011006004</td>\n",
       "      <td>28</td>\n",
       "      <td>10</td>\n",
       "      <td>0.002032</td>\n",
       "      <td>2.420555e-07</td>\n",
       "      <td>POLYGON ((-70.43583444960012 -23.4315984156343...</td>\n",
       "    </tr>\n",
       "    <tr>\n",
       "      <th>4</th>\n",
       "      <td>2</td>\n",
       "      <td>REGIÓN DE ANTOFAGASTA</td>\n",
       "      <td>21</td>\n",
       "      <td>ANTOFAGASTA</td>\n",
       "      <td>2101</td>\n",
       "      <td>ANTOFAGASTA</td>\n",
       "      <td>1</td>\n",
       "      <td>6</td>\n",
       "      <td>13</td>\n",
       "      <td>2</td>\n",
       "      <td>PB</td>\n",
       "      <td>2101011006013</td>\n",
       "      <td>126</td>\n",
       "      <td>34</td>\n",
       "      <td>0.007890</td>\n",
       "      <td>1.555973e-06</td>\n",
       "      <td>POLYGON ((-70.43685337967969 -23.4326524516492...</td>\n",
       "    </tr>\n",
       "  </tbody>\n",
       "</table>\n",
       "</div>"
      ],
      "text/plain": [
       "  REGION             NOM_REGION PROVINCIA   NOM_PROVIN COMUNA   NOM_COMUNA  \\\n",
       "0      2  REGIÓN DE ANTOFAGASTA        21  ANTOFAGASTA   2101  ANTOFAGASTA   \n",
       "1      2  REGIÓN DE ANTOFAGASTA        21  ANTOFAGASTA   2101  ANTOFAGASTA   \n",
       "2      2  REGIÓN DE ANTOFAGASTA        21  ANTOFAGASTA   2101  ANTOFAGASTA   \n",
       "3      2  REGIÓN DE ANTOFAGASTA        21  ANTOFAGASTA   2101  ANTOFAGASTA   \n",
       "4      2  REGIÓN DE ANTOFAGASTA        21  ANTOFAGASTA   2101  ANTOFAGASTA   \n",
       "\n",
       "   DISTRITO  LOCALIDAD  ENTIDAD_MA  CATEGORIA NOM_CATEGO      MANZENT_I  \\\n",
       "0         1          6           5          2         PB  2101011006005   \n",
       "1         1          6           2          2         PB  2101011006002   \n",
       "2         1          6           3          2         PB  2101011006003   \n",
       "3         1          6           4          2         PB  2101011006004   \n",
       "4         1          6          13          2         PB  2101011006013   \n",
       "\n",
       "   TOTAL_PERS  TOTAL_VIVI  Shape_Leng    Shape_Area  \\\n",
       "0          60          12    0.003557  7.071753e-07   \n",
       "1          30           9    0.005496  6.123607e-07   \n",
       "2          29          12    0.002441  2.767519e-07   \n",
       "3          28          10    0.002032  2.420555e-07   \n",
       "4         126          34    0.007890  1.555973e-06   \n",
       "\n",
       "                                            geometry  \n",
       "0  POLYGON ((-70.43561573717648 -23.4318549211676...  \n",
       "1  POLYGON ((-70.43575342607971 -23.4308022647127...  \n",
       "2  POLYGON ((-70.43650111073765 -23.4316401468752...  \n",
       "3  POLYGON ((-70.43583444960012 -23.4315984156343...  \n",
       "4  POLYGON ((-70.43685337967969 -23.4326524516492...  "
      ]
     },
     "execution_count": 29,
     "metadata": {},
     "output_type": "execute_result"
    }
   ],
   "source": [
    "antof.head()"
   ]
  },
  {
   "cell_type": "code",
   "execution_count": 49,
   "metadata": {},
   "outputs": [
    {
     "data": {
      "text/plain": [
       "<matplotlib.axes._subplots.AxesSubplot at 0x28e5fcbdac8>"
      ]
     },
     "execution_count": 49,
     "metadata": {},
     "output_type": "execute_result"
    },
    {
     "data": {
      "image/png": "[encoded data removed]",
      "text/plain": [
       "<matplotlib.figure.Figure at 0x28e5e0cf780>"
      ]
     },
     "metadata": {},
     "output_type": "display_data"
    }
   ],
   "source": [
    "base = tarapaca.plot(color = 'blue', edgecolor='black')\n",
    "tarapaca_call.plot(ax=base, color= 'red', markersize=0.1)"
   ]
  }
 ],
 "metadata": {
  "kernelspec": {
   "display_name": "Python 3",
   "language": "python",
   "name": "python3"
  },
  "language_info": {
   "codemirror_mode": {
    "name": "ipython",
    "version": 3
   },
   "file_extension": ".py",
   "mimetype": "text/x-python",
   "name": "python",
   "nbconvert_exporter": "python",
   "pygments_lexer": "ipython3",
   "version": "3.6.4"
  }
 },
 "nbformat": 4,
 "nbformat_minor": 2
}
